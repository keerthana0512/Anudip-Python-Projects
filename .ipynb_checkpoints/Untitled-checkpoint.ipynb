{
 "cells": [
  {
   "cell_type": "code",
   "execution_count": null,
   "id": "14616b07-5ca6-47da-bd6f-0b540a453a42",
   "metadata": {},
   "outputs": [
    {
     "name": "stdout",
     "output_type": "stream",
     "text": [
      "_ _ _ _ _ _ \n",
      "Attempts left: 6\n"
     ]
    }
   ],
   "source": [
    "import random\n",
    "words = [\"computer\",\"python\",\"java\",\"programming\",\"coding\",\"data\"]\n",
    "word = random.choice(words)\n",
    "            \n",
    "def hangman():\n",
    "    #initilize variable\n",
    "    guess= \" \"\n",
    "    attempts = 6\n",
    "\n",
    "    #display word\n",
    "    while attempts > 0:\n",
    "        for char in word:\n",
    "            if char in guess:\n",
    "                print(char,end=\" \")\n",
    "            else:\n",
    "                print(\"_\",end=\" \")\n",
    "\n",
    "        #Get user input\n",
    "        print(\"\\nAttempts left:\", attempts)\n",
    "        guess_letter = input(\"Guess a letter. \")\n",
    "        \n",
    "        #Check if guess letter is right or worong\n",
    "        if guess_letter in guess:\n",
    "                print(\"You already entered that letter.\")\n",
    "            \n",
    "        elif guess_letter in word:\n",
    "                guess+=guess_letter\n",
    "                if all(char in guess for char in word):\n",
    "                    print(\"\\nCongratulations,You won!!!\\n\")\n",
    "                    break\n",
    "                print(\"Good!!! \\nThe letter is correct.\\n\")\n",
    "\n",
    "        else:\n",
    "                print(\"Incorrect guess.\\n\")\n",
    "                guess+=guess_letter\n",
    "                attempts-=1\n",
    "            \n",
    "        #check if attempts failed\n",
    "        if attempts == 0:\n",
    "            print(\"You ran out of attempts.\")\n",
    "            print(\"The word was : \",word)\n",
    "\n",
    "    #Ask if player wants to play again\n",
    "    play_again = input(\"\\nDo you want to play again? (yes/no): \\n\")\n",
    "    if play_again.lower() == \"yes\":\n",
    "        hangman()\n",
    "    else:\n",
    "        print(\"Thanks for playing!!!\\n\")\n",
    "        \n",
    "hangman()\n"
   ]
  }
 ],
 "metadata": {
  "kernelspec": {
   "display_name": "Python 3 (ipykernel)",
   "language": "python",
   "name": "python3"
  },
  "language_info": {
   "codemirror_mode": {
    "name": "ipython",
    "version": 3
   },
   "file_extension": ".py",
   "mimetype": "text/x-python",
   "name": "python",
   "nbconvert_exporter": "python",
   "pygments_lexer": "ipython3",
   "version": "3.12.0"
  },
  "widgets": {
   "application/vnd.jupyter.widget-state+json": {
    "state": {},
    "version_major": 2,
    "version_minor": 0
   }
  }
 },
 "nbformat": 4,
 "nbformat_minor": 5
}
